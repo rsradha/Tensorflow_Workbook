{
  "nbformat": 4,
  "nbformat_minor": 0,
  "metadata": {
    "colab": {
      "name": "Linear_.ipynb",
      "provenance": [],
      "collapsed_sections": []
    },
    "kernelspec": {
      "name": "python3",
      "display_name": "Python 3"
    },
    "accelerator": "GPU"
  },
  "cells": [
    {
      "cell_type": "code",
      "metadata": {
        "id": "yXtCFRmMbT0R",
        "colab_type": "code",
        "colab": {
          "base_uri": "https://localhost:8080/",
          "height": 63
        },
        "outputId": "9e86fab5-08bb-44d7-f2f4-9f296a446df3"
      },
      "source": [
        "# import dependecies\n",
        "import numpy as np\n",
        "import tensorflow as tf\n",
        "import matplotlib.pyplot as plt\n"
      ],
      "execution_count": 3,
      "outputs": [
        {
          "output_type": "display_data",
          "data": {
            "text/html": [
              "<p style=\"color: red;\">\n",
              "The default version of TensorFlow in Colab will soon switch to TensorFlow 2.x.<br>\n",
              "We recommend you <a href=\"https://www.tensorflow.org/guide/migrate\" target=\"_blank\">upgrade</a> now \n",
              "or ensure your notebook will continue to use TensorFlow 1.x via the <code>%tensorflow_version 1.x</code> magic:\n",
              "<a href=\"https://colab.research.google.com/notebooks/tensorflow_version.ipynb\" target=\"_blank\">more info</a>.</p>\n"
            ],
            "text/plain": [
              "<IPython.core.display.HTML object>"
            ]
          },
          "metadata": {
            "tags": []
          }
        }
      ]
    },
    {
      "cell_type": "code",
      "metadata": {
        "id": "V57MYLj2brhf",
        "colab_type": "code",
        "colab": {}
      },
      "source": [
        "# Declaring learning parameter and epochs\n",
        "learning_parameter = 0.01\n",
        "epochs = 1000"
      ],
      "execution_count": 0,
      "outputs": []
    },
    {
      "cell_type": "code",
      "metadata": {
        "id": "CADZQmkvcBre",
        "colab_type": "code",
        "colab": {
          "base_uri": "https://localhost:8080/",
          "height": 282
        },
        "outputId": "269e0429-ea2d-47f7-82ff-9533b2cb27bc"
      },
      "source": [
        "# X_train and Y_train\n",
        "samples = 100\n",
        "x_train = np.linspace(0,30,samples)\n",
        "y_train = 6*x_train+7*np.random.randn(samples)\n",
        "plt.plot(x_train,y_train,'.')\n",
        "plt.plot(x_train,6*x_train)"
      ],
      "execution_count": 47,
      "outputs": [
        {
          "output_type": "execute_result",
          "data": {
            "text/plain": [
              "[<matplotlib.lines.Line2D at 0x7f5030031a58>]"
            ]
          },
          "metadata": {
            "tags": []
          },
          "execution_count": 47
        },
        {
          "output_type": "display_data",
          "data": {
            "image/png": "[encoded data removed]",
            "text/plain": [
              "<Figure size 432x288 with 1 Axes>"
            ]
          },
          "metadata": {
            "tags": []
          }
        }
      ]
    },
    {
      "cell_type": "code",
      "metadata": {
        "id": "NLrW1m3fc_Kt",
        "colab_type": "code",
        "colab": {}
      },
      "source": [
        "# \n",
        "Y = tf.placeholder(tf.float32)\n",
        "X = tf.placeholder(tf.float32)\n",
        "\n",
        "W = tf.Variable(np.random.rand(), name=\"weight\")\n",
        "B = tf.Variable(np.random.rand(), name=\"bias\")\n",
        "\n",
        "prediction = W*X + B"
      ],
      "execution_count": 0,
      "outputs": []
    },
    {
      "cell_type": "code",
      "metadata": {
        "id": "li_j9JHbf_Dp",
        "colab_type": "code",
        "colab": {}
      },
      "source": [
        "# cost function\n",
        "cost_function =  tf.reduce_sum((prediction - Y)**2)/(2*samples)"
      ],
      "execution_count": 0,
      "outputs": []
    },
    {
      "cell_type": "code",
      "metadata": {
        "id": "39z99dCZlN84",
        "colab_type": "code",
        "colab": {}
      },
      "source": [
        "# optimizing function Gradient descent\n",
        "optimizer = tf.train.GradientDescentOptimizer(learning_parameter).minimize(cost_function)"
      ],
      "execution_count": 0,
      "outputs": []
    },
    {
      "cell_type": "code",
      "metadata": {
        "id": "EQqkbuFCmD6I",
        "colab_type": "code",
        "colab": {}
      },
      "source": [
        "#initializing the variables in tensorflow \n",
        "\n",
        "init = tf.global_variables_initializer()"
      ],
      "execution_count": 0,
      "outputs": []
    },
    {
      "cell_type": "code",
      "metadata": {
        "id": "wCLwQCwumf_X",
        "colab_type": "code",
        "colab": {
          "base_uri": "https://localhost:8080/",
          "height": 265
        },
        "outputId": "94929b99-e77a-4382-89b9-df05bc3229f8"
      },
      "source": [
        "# starting the tensorflow session \n",
        "\n",
        "with tf.Session() as sess:\n",
        "  sess.run(init)\n",
        "  for epoch in range(epochs):\n",
        "    for x,y in zip(x_train, y_train):\n",
        "      sess.run(optimizer, feed_dict = {X:x, Y:y})\n",
        "    if not epochs%60:\n",
        "      W1 = sess.run(W) \n",
        "      B1 = sess.run(B)\n",
        "      cost_iter = sess.run(cost_function, feed_dict = {X:x, Y:y})\n",
        "      #print('Epochs %f, cost %f, weight %f, Bias %f' %(epoch, cost_iter,W1,B1))\n",
        "    \n",
        "  Weight = sess.run(W)\n",
        "  Bias = sess.run(B)\n",
        "\n",
        "  plt.plot(x_train,y_train,'.')\n",
        "  plt.plot(x_train, Weight*x_train+Bias)\n",
        "  plt.show()\n"
      ],
      "execution_count": 53,
      "outputs": [
        {
          "output_type": "display_data",
          "data": {
            "image/png": "[encoded data removed]",
            "text/plain": [
              "<Figure size 432x288 with 1 Axes>"
            ]
          },
          "metadata": {
            "tags": []
          }
        }
      ]
    },
    {
      "cell_type": "code",
      "metadata": {
        "id": "9FTixu8pp61v",
        "colab_type": "code",
        "colab": {}
      },
      "source": [
        ""
      ],
      "execution_count": 0,
      "outputs": []
    }
  ]
}